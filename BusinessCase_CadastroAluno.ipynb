{
  "nbformat": 4,
  "nbformat_minor": 0,
  "metadata": {
    "colab": {
      "provenance": [],
      "authorship_tag": "ABX9TyM0bOTuai1ncZzgBfRhYNoc",
      "include_colab_link": true
    },
    "kernelspec": {
      "name": "python3",
      "display_name": "Python 3"
    },
    "language_info": {
      "name": "python"
    }
  },
  "cells": [
    {
      "cell_type": "markdown",
      "metadata": {
        "id": "view-in-github",
        "colab_type": "text"
      },
      "source": [
        "<a href=\"https://colab.research.google.com/github/RosmariBarros/BusinessCase_CadastroAluno/blob/main/BusinessCase_CadastroAluno.ipynb\" target=\"_parent\"><img src=\"https://colab.research.google.com/assets/colab-badge.svg\" alt=\"Open In Colab\"/></a>"
      ]
    },
    {
      "cell_type": "markdown",
      "source": [
        "#Entrada de Dados"
      ],
      "metadata": {
        "id": "ddx_EQeOQvxQ"
      }
    },
    {
      "cell_type": "code",
      "execution_count": 64,
      "metadata": {
        "colab": {
          "base_uri": "https://localhost:8080/"
        },
        "id": "9YQji52YMzCF",
        "outputId": "522c4de9-ed1c-4fcc-f35e-8101b0e4d640"
      },
      "outputs": [
        {
          "name": "stdout",
          "output_type": "stream",
          "text": [
            "Digite o nome: Rosmari Barros\n",
            "Digite a idade: 43\n",
            "Digite o peso (Kg): 62.3\n",
            "Digite a altura (m): 1.58\n"
          ]
        }
      ],
      "source": [
        "nome = input('Digite o nome: ')\n",
        "idade = input('Digite a idade: ')\n",
        "peso = float(input('Digite o peso (Kg): '))\n",
        "altura = float(input('Digite a altura (m): '))"
      ]
    },
    {
      "cell_type": "markdown",
      "source": [
        "#Calculando o IMC"
      ],
      "metadata": {
        "id": "S3QXm5RQQt_J"
      }
    },
    {
      "cell_type": "code",
      "source": [
        "imc = round(peso / (altura * altura), 2)"
      ],
      "metadata": {
        "id": "0ZyWNJviOPsq"
      },
      "execution_count": 67,
      "outputs": []
    },
    {
      "cell_type": "code",
      "source": [
        "print(imc)"
      ],
      "metadata": {
        "colab": {
          "base_uri": "https://localhost:8080/"
        },
        "id": "D4UyLIayOVtN",
        "outputId": "d21650b2-7fa9-46dd-872e-412801540340"
      },
      "execution_count": 68,
      "outputs": [
        {
          "output_type": "stream",
          "name": "stdout",
          "text": [
            "24.96\n"
          ]
        }
      ]
    },
    {
      "cell_type": "markdown",
      "source": [
        "#Criando o status"
      ],
      "metadata": {
        "id": "5Uf5IBfiUj62"
      }
    },
    {
      "cell_type": "code",
      "source": [
        "status = 'dentro do peso'\n",
        "if imc > 25:\n",
        "  status = 'sobrepeso'"
      ],
      "metadata": {
        "id": "dmJecgFyUn6u"
      },
      "execution_count": 69,
      "outputs": []
    },
    {
      "cell_type": "code",
      "source": [
        "print(status)"
      ],
      "metadata": {
        "colab": {
          "base_uri": "https://localhost:8080/"
        },
        "id": "iStfSStAYuLF",
        "outputId": "2fa58080-63ad-4e28-d367-722c191890bd"
      },
      "execution_count": 70,
      "outputs": [
        {
          "output_type": "stream",
          "name": "stdout",
          "text": [
            "dentro do peso\n"
          ]
        }
      ]
    },
    {
      "cell_type": "markdown",
      "source": [
        "#Gerando o PDF"
      ],
      "metadata": {
        "id": "JTI8MhAEY5ON"
      }
    },
    {
      "cell_type": "code",
      "source": [
        "!pip install pdf_reports"
      ],
      "metadata": {
        "id": "slinDrXdY9uc"
      },
      "execution_count": null,
      "outputs": []
    },
    {
      "cell_type": "code",
      "source": [
        "import pdf_reports"
      ],
      "metadata": {
        "id": "yQUYi_Z3Z7sn"
      },
      "execution_count": 72,
      "outputs": []
    },
    {
      "cell_type": "code",
      "source": [
        "dados_aluno = {\n",
        "    'nome': nome,\n",
        "    'idade': idade,\n",
        "    'peso': peso,\n",
        "    'altura': altura,\n",
        "    'imc': imc,\n",
        "    'status': status\n",
        "}"
      ],
      "metadata": {
        "id": "ewZwCgsZbJ3G"
      },
      "execution_count": 73,
      "outputs": []
    },
    {
      "cell_type": "code",
      "source": [
        "template = pdf_reports.pug_to_html('template.pug', dados= dados_aluno)"
      ],
      "metadata": {
        "id": "0FIZ05FZabns"
      },
      "execution_count": 74,
      "outputs": []
    },
    {
      "cell_type": "code",
      "source": [
        "pdf_reports.write_report(template, 'ficha_aluno.pdf', use_default_styling=False)"
      ],
      "metadata": {
        "id": "LuimbzZxcyxu"
      },
      "execution_count": 75,
      "outputs": []
    }
  ]
}